{
 "cells": [
  {
   "cell_type": "code",
   "execution_count": 1,
   "id": "initial_id",
   "metadata": {
    "collapsed": true,
    "ExecuteTime": {
     "end_time": "2024-01-03T21:39:33.365232400Z",
     "start_time": "2024-01-03T21:39:33.048098200Z"
    }
   },
   "outputs": [],
   "source": [
    "import pprint\n",
    "import textwrap\n",
    "from datetime import datetime\n",
    "\n",
    "import pymongo as pyM"
   ]
  },
  {
   "cell_type": "code",
   "outputs": [],
   "source": [
    "# conectando ao MongoDB\n",
    "cliente = pyM.MongoClient(\"mongodb+srv://<usuario>:<senha>@cluster0.mihql7t.mongodb.net/?retryWrites=true&w=majority\")\n",
    "\n",
    "db = cliente.bank\n",
    "posts = db.posts"
   ],
   "metadata": {
    "collapsed": false,
    "ExecuteTime": {
     "end_time": "2024-01-03T21:39:36.193662500Z",
     "start_time": "2024-01-03T21:39:36.042288500Z"
    }
   },
   "id": "b729c7414b5478dc",
   "execution_count": 2
  },
  {
   "cell_type": "code",
   "outputs": [
    {
     "name": "stdout",
     "output_type": "stream",
     "text": [
      "\n",
      "Número da ocorrência:  1\n",
      "{'_id': ObjectId('6595d3d1d90d00d0eb145cff'),\n",
      " 'cpf': 369258147,\n",
      " 'date': datetime.datetime(2024, 1, 3, 21, 38, 25, 915000),\n",
      " 'endereco': 'Rua das primaveras',\n",
      " 'id': 1,\n",
      " 'nome': 'Camila'}\n",
      "\t\t None\n",
      "\n",
      "Número da ocorrência:  2\n",
      "{'_id': ObjectId('6595d3d2d90d00d0eb145d00'),\n",
      " 'cpf': 147258369,\n",
      " 'date': datetime.datetime(2024, 1, 3, 21, 38, 25, 915000),\n",
      " 'endereco': 'Rua das auroras',\n",
      " 'id': 2,\n",
      " 'nome': 'Camila'}\n",
      "\t\t None\n",
      "\n",
      "Número da ocorrência:  3\n",
      "{'_id': ObjectId('6595d3d2d90d00d0eb145d01'),\n",
      " 'cpf': 789456123,\n",
      " 'date': datetime.datetime(2024, 1, 3, 21, 38, 25, 915000),\n",
      " 'endereco': 'Rua das ortências',\n",
      " 'id': 3,\n",
      " 'nome': 'Camila'}\n",
      "\t\t None\n"
     ]
    }
   ],
   "source": [
    "c = 1\n",
    "for post in posts.find():\n",
    "\n",
    "    print(\"\\nNúmero da ocorrência: \", c)\n",
    "    print(\"\\t\\t\", pprint.pprint(post))\n",
    "    c += 1\n"
   ],
   "metadata": {
    "collapsed": false,
    "ExecuteTime": {
     "end_time": "2024-01-03T21:39:38.991848900Z",
     "start_time": "2024-01-03T21:39:38.855447800Z"
    }
   },
   "id": "5b1837c736a817bc",
   "execution_count": 3
  },
  {
   "cell_type": "code",
   "outputs": [
    {
     "name": "stdout",
     "output_type": "stream",
     "text": [
      "Numero de posts com busca filtrada: \t 3\n"
     ]
    }
   ],
   "source": [
    "print(\"Numero de posts com busca filtrada:\", \"\\t\", posts.count_documents({\"nome\": \"Camila\"}))"
   ],
   "metadata": {
    "collapsed": false,
    "ExecuteTime": {
     "end_time": "2024-01-03T21:39:50.976235100Z",
     "start_time": "2024-01-03T21:39:50.937930600Z"
    }
   },
   "id": "869c66fdc755f71a",
   "execution_count": 4
  },
  {
   "cell_type": "markdown",
   "source": [
    "Buscando Infos de maneira ordenada"
   ],
   "metadata": {
    "collapsed": false
   },
   "id": "3a4e087cceb9a06c"
  },
  {
   "cell_type": "code",
   "outputs": [
    {
     "name": "stdout",
     "output_type": "stream",
     "text": [
      "\n",
      "\n",
      "{'_id': ObjectId('6595d3d1d90d00d0eb145cff'),\n",
      " 'cpf': 369258147,\n",
      " 'date': datetime.datetime(2024, 1, 3, 21, 38, 25, 915000),\n",
      " 'endereco': 'Rua das primaveras',\n",
      " 'id': 1,\n",
      " 'nome': 'Camila'}\n",
      "\n",
      "\n",
      "{'_id': ObjectId('6595d3d2d90d00d0eb145d00'),\n",
      " 'cpf': 147258369,\n",
      " 'date': datetime.datetime(2024, 1, 3, 21, 38, 25, 915000),\n",
      " 'endereco': 'Rua das auroras',\n",
      " 'id': 2,\n",
      " 'nome': 'Camila'}\n",
      "\n",
      "\n",
      "{'_id': ObjectId('6595d3d2d90d00d0eb145d01'),\n",
      " 'cpf': 789456123,\n",
      " 'date': datetime.datetime(2024, 1, 3, 21, 38, 25, 915000),\n",
      " 'endereco': 'Rua das ortências',\n",
      " 'id': 3,\n",
      " 'nome': 'Camila'}\n"
     ]
    }
   ],
   "source": [
    "for post in posts.find({}).sort(\"_id\"):\n",
    "    print(\"\\n\")\n",
    "    pprint.pprint(post)\n",
    "    "
   ],
   "metadata": {
    "collapsed": false,
    "ExecuteTime": {
     "end_time": "2024-01-03T21:40:11.838387300Z",
     "start_time": "2024-01-03T21:40:11.785659100Z"
    }
   },
   "id": "bf49e708210cfddf",
   "execution_count": 6
  },
  {
   "cell_type": "markdown",
   "source": [
    "Criando um novo indice"
   ],
   "metadata": {
    "collapsed": false
   },
   "id": "c8ce72b3d28c0368"
  },
  {
   "cell_type": "code",
   "outputs": [],
   "source": [
    "result = db.profiles.create_index([('cpf', pyM.ASCENDING)], unique=True)"
   ],
   "metadata": {
    "collapsed": false,
    "ExecuteTime": {
     "end_time": "2024-01-03T21:40:24.303967700Z",
     "start_time": "2024-01-03T21:40:24.192592400Z"
    }
   },
   "id": "3d7528edd6bcf053",
   "execution_count": 7
  },
  {
   "cell_type": "code",
   "outputs": [
    {
     "data": {
      "text/plain": "['_id_', 'cpf_1']"
     },
     "execution_count": 8,
     "metadata": {},
     "output_type": "execute_result"
    }
   ],
   "source": [
    "sorted(list(db.profiles.index_information()))"
   ],
   "metadata": {
    "collapsed": false,
    "ExecuteTime": {
     "end_time": "2024-01-03T21:40:26.924843500Z",
     "start_time": "2024-01-03T21:40:26.873189800Z"
    }
   },
   "id": "3abf7e6ca39c61b5",
   "execution_count": 8
  },
  {
   "cell_type": "markdown",
   "source": [
    "Criando novos profiles"
   ],
   "metadata": {
    "collapsed": false
   },
   "id": "ca9aa6b13a851cf3"
  },
  {
   "cell_type": "code",
   "outputs": [
    {
     "data": {
      "text/plain": "['posts']"
     },
     "execution_count": 15,
     "metadata": {},
     "output_type": "execute_result"
    }
   ],
   "source": [
    "db.list_collection_names()\n"
   ],
   "metadata": {
    "collapsed": false,
    "ExecuteTime": {
     "end_time": "2024-01-03T21:49:34.611347800Z",
     "start_time": "2024-01-03T21:49:34.570608500Z"
    }
   },
   "id": "9728e2cd290387fc",
   "execution_count": 15
  }
 ],
 "metadata": {
  "kernelspec": {
   "display_name": "Python 3",
   "language": "python",
   "name": "python3"
  },
  "language_info": {
   "codemirror_mode": {
    "name": "ipython",
    "version": 2
   },
   "file_extension": ".py",
   "mimetype": "text/x-python",
   "name": "python",
   "nbconvert_exporter": "python",
   "pygments_lexer": "ipython2",
   "version": "2.7.6"
  }
 },
 "nbformat": 4,
 "nbformat_minor": 5
}
